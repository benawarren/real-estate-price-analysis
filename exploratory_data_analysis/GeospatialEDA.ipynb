{
 "cells": [
  {
   "cell_type": "code",
   "execution_count": 2,
   "metadata": {},
   "outputs": [],
   "source": [
    "#import libraries\n",
    "import rasterio # the GEOS-based raster package\n",
    "import numpy # the array computation library\n",
    "import geopandas # the GEOS-based vector package\n",
    "import contextily # the package for fetching basemaps\n",
    "import matplotlib.pyplot as plt # the visualization package"
   ]
  },
  {
   "cell_type": "code",
   "execution_count": 5,
   "metadata": {},
   "outputs": [],
   "source": [
    "#import Philadelphia aerial photo data\n",
    "philly_tile = geopandas.read_file('Resources/PhiladelphiaImagery_TileIndex2022')"
   ]
  },
  {
   "cell_type": "code",
   "execution_count": 9,
   "metadata": {},
   "outputs": [],
   "source": [
    "from rasterio.features import rasterize\n",
    "from rasterio.transform import from_bounds\n",
    "import numpy as np\n",
    "\n",
    "def vector_to_raster(gdf, output_tiff, resolution=10):\n",
    "    \"\"\"\n",
    "    Converts a GeoDataFrame of aerial photography tiles into a GeoTIFF raster file.\n",
    "    \n",
    "    Parameters:\n",
    "    - gdf: GeoDataFrame containing polygon geometries\n",
    "    - output_tiff: Path to save the rasterized TIFF file\n",
    "    - resolution: Pixel resolution (smaller = higher resolution)\n",
    "    \"\"\"\n",
    "    # Get the bounds of the dataset\n",
    "    minx, miny, maxx, maxy = gdf.total_bounds\n",
    "    \n",
    "    # Define the number of rows and columns based on resolution\n",
    "    width = int((maxx - minx) / resolution)\n",
    "    height = int((maxy - miny) / resolution)\n",
    "    \n",
    "    # Define the transform (georeferencing) for the raster\n",
    "    transform = from_bounds(minx, miny, maxx, maxy, width, height)\n",
    "    \n",
    "    # Convert geometries to raster format\n",
    "    shapes = [(geom, 1) for geom in gdf.geometry]  # Assign all shapes a value of 1\n",
    "    raster = rasterize(shapes, out_shape=(height, width), transform=transform, fill=0)\n",
    "    \n",
    "    # Save the raster as a GeoTIFF\n",
    "    with rasterio.open(\n",
    "        output_tiff,\n",
    "        'w',\n",
    "        driver='GTiff',\n",
    "        height=height,\n",
    "        width=width,\n",
    "        count=1,  # Single-band raster\n",
    "        dtype=raster.dtype,\n",
    "        crs=gdf.crs,  # Use the same CRS as the original dataset\n",
    "        transform=transform\n",
    "    ) as dst:\n",
    "        dst.write(raster, 1)\n",
    "\n",
    "vector_to_raster(philly_tile, \"Resources/philly_tile.tif\", resolution=10)  # Save as raster"
   ]
  },
  {
   "cell_type": "code",
   "execution_count": 12,
   "metadata": {},
   "outputs": [],
   "source": [
    "philly_tile_tif = rasterio.open('Resources/philly_tile.tif')"
   ]
  },
  {
   "cell_type": "code",
   "execution_count": 18,
   "metadata": {},
   "outputs": [
    {
     "name": "stdout",
     "output_type": "stream",
     "text": [
      "int64\n"
     ]
    }
   ],
   "source": [
    "with rasterio.open('Resources/philly_tile.tif') as src:\n",
    "    raster_data = src.read(1)\n",
    "\n",
    "print(raster_data.dtype)"
   ]
  },
  {
   "cell_type": "code",
   "execution_count": 19,
   "metadata": {},
   "outputs": [
    {
     "data": {
      "image/png": "[encoded data removed]",
      "text/plain": [
       "<Figure size 432x288 with 2 Axes>"
      ]
     },
     "metadata": {
      "needs_background": "light"
     },
     "output_type": "display_data"
    }
   ],
   "source": [
    "plt.imshow(raster_data, cmap=\"gray\")\n",
    "plt.colorbar()\n",
    "plt.show()"
   ]
  },
  {
   "cell_type": "code",
   "execution_count": 20,
   "metadata": {},
   "outputs": [
    {
     "data": {
      "image/png": "[encoded data removed]",
      "text/plain": [
       "<Figure size 432x288 with 1 Axes>"
      ]
     },
     "metadata": {
      "needs_background": "light"
     },
     "output_type": "display_data"
    },
    {
     "data": {
      "text/plain": [
       "<AxesSubplot:>"
      ]
     },
     "execution_count": 20,
     "metadata": {},
     "output_type": "execute_result"
    }
   ],
   "source": [
    "from rasterio import plot as rioplot\n",
    "\n",
    "rioplot.show(raster_data, cmap='hot')"
   ]
  }
 ],
 "metadata": {
  "kernelspec": {
   "display_name": "Python 3 (ipykernel)",
   "language": "python",
   "name": "python3"
  },
  "language_info": {
   "codemirror_mode": {
    "name": "ipython",
    "version": 3
   },
   "file_extension": ".py",
   "mimetype": "text/x-python",
   "name": "python",
   "nbconvert_exporter": "python",
   "pygments_lexer": "ipython3",
   "version": "3.9.12"
  }
 },
 "nbformat": 4,
 "nbformat_minor": 2
}
